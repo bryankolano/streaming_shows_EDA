{
 "cells": [
  {
   "cell_type": "markdown",
   "id": "8a1bc8cc-86ae-47a6-9291-1fddef85cfc4",
   "metadata": {},
   "source": [
    "# Exploratory Data Analysis and Visualization\n",
    "## TV Shows Hosted on Four Streaming Platforms, with IMDB and Rotten Tomatoes Rating\n",
    "## By: Bryan Kolano, October 28th, 2022\n",
    "#### Data from [Kaggle Dataset by User: Ruchi Bhatia](https://www.kaggle.com/datasets/ruchi798/tv-shows-on-netflix-prime-video-hulu-and-disney) \n",
    "***"
   ]
  },
  {
   "cell_type": "markdown",
   "id": "0bf8735e-893b-4725-9198-07a2a97c7481",
   "metadata": {},
   "source": [
    "#### Import of packages and reading in the data\n",
    "I began as a R user in 2017.  I learned about the package \"janitor\" that has various functionality but I always used to clean up and standardize column names.  Fortunately, there is a python version of the package and it is a very simple way to implement."
   ]
  },
  {
   "cell_type": "code",
   "execution_count": null,
   "id": "a4315653-06fa-48d8-ba00-d72200cca10e",
   "metadata": {},
   "outputs": [],
   "source": [
    "%config Completer.use_jedi = False\n",
    "\n",
    "import pandas as pd\n",
    "import numpy as np\n",
    "import matplotlib.pyplot as plt\n",
    "import seaborn as sns\n",
    "import janitor\n",
    "import math"
   ]
  },
  {
   "cell_type": "code",
   "execution_count": null,
   "id": "399bf5da-cf67-4e85-a4b0-71063a5a19ae",
   "metadata": {},
   "outputs": [],
   "source": [
    "data = pd.read_csv('tv_shows.csv')\n",
    "\n",
    "#Get rid of unnecessary columns\n",
    "df = data.drop(columns=['ID','Unnamed: 0','Type'])\n",
    "\n",
    "#standardize and clean up names\n",
    "df = janitor.clean_names(df)\n",
    "df.head()"
   ]
  },
  {
   "cell_type": "markdown",
   "id": "dc346b44-d63f-4cb0-b088-d9946e59a725",
   "metadata": {},
   "source": [
    "#### Basic Exploratory Data Analysis to understand the data better"
   ]
  },
  {
   "cell_type": "code",
   "execution_count": null,
   "id": "075ec95a-dc3e-42dc-a4ce-f3e594e96d51",
   "metadata": {},
   "outputs": [],
   "source": [
    "df.describe()"
   ]
  },
  {
   "cell_type": "code",
   "execution_count": null,
   "id": "51501a9d-0f3b-4106-b39b-5affc76d794f",
   "metadata": {},
   "outputs": [],
   "source": [
    "#check out number of shows by debut year\n",
    "df['year'].value_counts().head(30)"
   ]
  },
  {
   "cell_type": "code",
   "execution_count": null,
   "id": "61696d0e-96ef-405f-a8e8-ee6d84d078d9",
   "metadata": {},
   "outputs": [],
   "source": [
    "#check out shows by age ratings\n",
    "df['age'].value_counts()"
   ]
  },
  {
   "cell_type": "code",
   "execution_count": null,
   "id": "1790c39a-4daa-4bfe-a14b-511c636974d0",
   "metadata": {},
   "outputs": [],
   "source": [
    "#how many streaming shows are on each platform?\n",
    "platforms = ['netflix','hulu','prime_video','disney+']\n",
    "\n",
    "for plat in platforms:\n",
    "    print(f\"There are {df[plat].sum()} shows on {plat.capitalize()}.\")"
   ]
  },
  {
   "cell_type": "markdown",
   "id": "cb04b81b-d467-4b63-a182-f07a7d018a14",
   "metadata": {},
   "source": [
    "#### Data cleaning and function development for visualization analysis\n",
    "1. The raw dataset had a few columns that needed to cleaned.  For example, IMDB ratings were not a number, but rather a rating out of 10, like 9/10 or 7.5/ 10 for example.  <br> The Rotten Tomatoes (RT) column was similar, with ratings our of 100, like 95/100. <br>\n",
    "\n",
    "2. Ratings were stripped from the ratings columns and put into new columns. <br>\n",
    "3. Additionally, to be able to use both IMDB and RT rating, IMDB ratings were scaled to 100 and then averages with the RT ratings, in the \"rating_combined\" column.\n",
    "4. The function \"best_shows\" takes in the data and returns the top 10 shows based on average IMDB and RT rating.  Additionally, there are optional inputs that allow you to select a particular streaming platform and/or select a particular year."
   ]
  },
  {
   "cell_type": "code",
   "execution_count": null,
   "id": "9d0fdaed-e233-476d-b07b-73d1b443c38d",
   "metadata": {},
   "outputs": [],
   "source": [
    "#cut out IMDB values and Rotten tomatoes values to make them floats \n",
    "#as opposed to ratings like 9/10\n",
    "\n",
    "df['imdb_raw'] = df['imdb'].str.split('/').str[0]\n",
    "df['rotten_raw'] = df['rotten_tomatoes'].str.split('/').str[0]\n",
    "\n",
    "df = df.astype(\n",
    "    {'imdb_raw':'float',\n",
    "    'rotten_raw': 'float'}\n",
    ")\n",
    "\n",
    "#Combine the ratings to find average ratings across the two\n",
    "#Since they are on different scales, convert imdb_rating to a number out of 100\n",
    "\n",
    "df['rating_combined'] = ((df['imdb_raw'] *10) + df['rotten_raw'])/2\n",
    "\n",
    "df.fillna(0, inplace = True)\n",
    "df.head()"
   ]
  },
  {
   "cell_type": "code",
   "execution_count": null,
   "id": "6188cc10-7b00-49e3-8cbe-e03b6fd1d4aa",
   "metadata": {},
   "outputs": [],
   "source": [
    "#write a function that will take in the dataset, and can optionally a particular streaming platform\n",
    "# can also optionally take a year.\n",
    "\n",
    "def best_shows(data, platform = \"\", year = None):\n",
    "    \n",
    "    if (platform != \"\") and (year is not None):\n",
    "        current = (data\n",
    "            .loc[lambda x: x[platform] == 1]\n",
    "            .loc[lambda x: x['year'] == year]\n",
    "                  )\n",
    "        current  = current.sort_values(by = 'rating_combined', ascending = False).head(10)\n",
    "        \n",
    "    elif (platform == \"\") and (year is not None):\n",
    "        current = (data\n",
    "            .loc[lambda x: x['year'] == year]\n",
    "                  )\n",
    "        current  = current.sort_values(by = 'rating_combined', ascending = False).head(10)\n",
    "        \n",
    "    elif (platform != \"\") and (year is None) :\n",
    "        current = (data\n",
    "            .loc[lambda x: x[platform] == 1]\n",
    "                  )\n",
    "        current  = current.sort_values(by = 'rating_combined', ascending = False).head(10)\n",
    "        \n",
    "    elif (platform == \"\") and (year is None) :\n",
    "        current  = data.sort_values(by = 'rating_combined', ascending = False).head(10)\n",
    "        \n",
    "    return current"
   ]
  },
  {
   "cell_type": "markdown",
   "id": "0dffd58d-e093-4faf-bc41-91608fd1688c",
   "metadata": {},
   "source": [
    "#### Visualization of the Data\n",
    "\n",
    "##### The best shows \n",
    "The first grouping of graphic show the highest rated show, by streaming platform.  There are some shows that are on multiple streaming platforms. For example, \"Avatar: The Last Airbender\" is rated in the top 10 of shows on Netflix and Amazon Prime."
   ]
  },
  {
   "cell_type": "code",
   "execution_count": null,
   "id": "fdfd478b-06e5-4e53-b66c-22554bfb3414",
   "metadata": {},
   "outputs": [],
   "source": [
    "#top shows on each platform\n",
    "\n",
    "for plat in platforms:\n",
    "    plt.figure(figsize=(15,6))\n",
    "    sns.barplot(data = best_shows(df, platform= plat), y = 'title', x = 'rating_combined', palette= 'deep')\n",
    "    \n",
    "    plt.xlim(70,100)\n",
    "    plt.xlabel('Rating')\n",
    "    plt.ylabel('Show Name')\n",
    "    # plt.title(f'Top shows on {plat.capitalize()}',fontsize=15, ha = 'left')\n",
    "    plt.suptitle(f'Top shows on {plat.capitalize()}',fontsize=15, ha = 'right')\n",
    "    plt.title('Combined IMDB and Rotten Tomatoes Rating', fontsize = 10, ha = 'right')"
   ]
  },
  {
   "cell_type": "markdown",
   "id": "c661b991-c22f-4e03-8515-26832d6fb7c3",
   "metadata": {},
   "source": [
    "In many visualizations, when x axis labels are long text, the easiest ways to deal with that is to flip the axes, like the graphs above, or rate the text to be oriented on 90 degrees.  Even when labels are rotated 90 degrees, some of the show titles are quite long, like \"It's always sunny in Philadelphia\".  Even rotated 90 degrees means, the two graphs below would be really far below the top two because of this long title.  \n",
    "<br>\n",
    "To deal with this, I wrote a little bit of code that took names with more than two words and split them across two lines to make the four graphs appear more aesthetic. <br>\n",
    "\n",
    "To take advantange of this name spliting rotation on the x axis, I created two graphics to better understand the data:\n",
    "1. Top 10-rated shows by each platform.\n",
    "2. Top 10-rated shows across all platforms, by debut year, from 1999-2020."
   ]
  },
  {
   "cell_type": "code",
   "execution_count": null,
   "id": "3f259ac3-81bd-4116-a601-460f628683d4",
   "metadata": {},
   "outputs": [],
   "source": [
    "#Top shows across each platform\n",
    "\n",
    "platforms = ['netflix','hulu','prime_video','disney+']\n",
    "    \n",
    "fig, axs = plt.subplots(2,2, figsize = (16, 9))\n",
    "\n",
    "fig.subplots_adjust(hspace=1)\n",
    "#plt.xticks(wrap = True)\n",
    "\n",
    "for platform,ax in zip(platforms, axs.ravel()):\n",
    "    sns.barplot(data = best_shows(df,platform), x = 'title', y = 'rating_combined', ax = ax)    \n",
    "    ax.set_ylim(80,100)\n",
    "    ax.set_title(platform.capitalize())\n",
    "    ax.set_xlabel('Shows')\n",
    "    ax.xaxis.set_tick_params(rotation=90)\n",
    "    \n",
    "    #These next lines of codes are to take in a given label, and if it is greater than two\n",
    "    #words long, then it'll break it in half (if even number of words in title) or close to half (if\n",
    "    # odd number of words in title) and then puts a line break in each label\n",
    "    labels = [item.get_text() for item in ax.get_xticklabels()]\n",
    "    split_labels = []\n",
    "    for x in labels:\n",
    "        x = x.split()\n",
    "        if len(x) % 2 == 0 and len(x) > 2:\n",
    "            a = ' '.join(x[:(int((len(x)/2)))])\n",
    "            b = ' '.join(x[int((len(x)/2)):])\n",
    "        else:\n",
    "            a = ' '.join(x[:math.ceil(len(x)/2)])\n",
    "            b = ' '.join(x[math.ceil(len(x)/2):])\n",
    "        hold = '\\n'.join([a,b])\n",
    "        split_labels.append(hold)\n",
    "        \n",
    "    ax.set_xticklabels(labels = split_labels)\n",
    "    #plt.xticks(wrap = True)"
   ]
  },
  {
   "cell_type": "code",
   "execution_count": null,
   "id": "edf8b484-18cb-4e08-b5a9-e3e4ba99bb6e",
   "metadata": {},
   "outputs": [],
   "source": [
    "#best shows by year, IMDB and rotten tomatoes average\n",
    "years = [year for year in range(1999,2021)]\n",
    "years = list(reversed(years))\n",
    "\n",
    "fig, axs = plt.subplots(ncols= 2, nrows = 11, figsize = (25, 50))\n",
    "\n",
    "for year,ax in zip(years, axs.ravel()):\n",
    "    fig.subplots_adjust(hspace= 1.9)\n",
    "    #print(f'year {year}, ax {ax}')\n",
    "    #sns.barplot(data = best_shows(df,platform), x = 'title', y = 'rating_combined', ax = ax)    \n",
    "    current_year_df = df[df['year'] == year]\n",
    "    current_year_df = current_year_df.sort_values(by = 'rating_combined', ascending = False)\n",
    "    \n",
    "    sns.barplot(x = 'title', y = 'rating_combined', data= current_year_df.head(10), ax = ax)\n",
    "    ax.set_xlabel('')\n",
    "    ax.set_ylabel('IMDB Score, max of 100')\n",
    "    ax.set_title(f\"Best Rated Streaming shows, by Debut Year: {year} \\n Average of IMDB and Rotten Tomatoes\")\n",
    "    ax.xaxis.set_tick_params(rotation=90)\n",
    "    ax.set_ylim(60,100)\n",
    "    \n",
    "    \n",
    "    #This label breakdown below does the same thing as the previous code block\n",
    "    labels = [item.get_text() for item in ax.get_xticklabels()]\n",
    "    split_labels = []\n",
    "    for x in labels:\n",
    "        x = x.split()\n",
    "        if len(x) % 2 == 0 and len(x) > 2:\n",
    "            a = ' '.join(x[:(int((len(x)/2)))])\n",
    "            b = ' '.join(x[int((len(x)/2)):])\n",
    "        else:\n",
    "            a = ' '.join(x[:math.ceil(len(x)/2)])\n",
    "            b = ' '.join(x[math.ceil(len(x)/2):])\n",
    "        hold = '\\n'.join([a,b])\n",
    "        split_labels.append(hold)\n",
    "        \n",
    "    ax.set_xticklabels(labels = split_labels)\n",
    "    \n",
    "\n",
    "\n"
   ]
  },
  {
   "cell_type": "markdown",
   "id": "c95f5d33-8cef-48df-ab0d-e67735e11cd6",
   "metadata": {},
   "source": [
    "##### The worst shows\n",
    "Many of the shows in the data had no rating in IMDB, in RT, or in both.  To account for that, any show that did not have a rating was excluded from this next section.\n"
   ]
  },
  {
   "cell_type": "code",
   "execution_count": null,
   "id": "dd99fea8-e889-44b6-bd6d-0eb8e6038838",
   "metadata": {},
   "outputs": [],
   "source": [
    "#Looking at worst shows, need to get rid of shows that don't have ratings on both IMDB and Rotten Tomatoes\n",
    "\n",
    "df_no_zeros = df.query(\n",
    "            \"imdb_raw != 0 and \\\n",
    "            rotten_raw != 0\"\n",
    ")\n",
    "df_no_zeros_sorted = df_no_zeros.sort_values(by = 'rating_combined', ascending = True)"
   ]
  },
  {
   "cell_type": "markdown",
   "id": "56d1422f-b8b6-4fa8-b304-9ef36da7c80a",
   "metadata": {},
   "source": [
    "The following graph shows the 10 shows across all platforms and years, by average IMDB and RT rating.  The issue I was that have never heard of any of these shows.  I made the assumption that because I have never heard of these poorly-rated shows, some of them had to be before I started watching tv.  <br>\n",
    "\n",
    "It turns out I was wrong; of the worst rated shows, the oldest one was from 2005.  I have probably not heard of them because they were not advertised due to great reviews, were recommended to me by streaming platforms, or perhaps they didn't last long on each respective platform."
   ]
  },
  {
   "cell_type": "code",
   "execution_count": null,
   "id": "f0c5a7ce-a944-434b-9281-093bf1cd0ff5",
   "metadata": {},
   "outputs": [],
   "source": [
    "#worst shows across all platforms\n",
    "\n",
    "g = sns.catplot(x = 'rating_combined', y = 'title', data = df_no_zeros_sorted.head(10), kind = 'bar',height=6, aspect=2)\n",
    "#plt.xlabel('Title')\n",
    "g.set_xlabels('Averaged Score')\n",
    "g.set_ylabels('Title')\n",
    "plt.title('Worst T.V. Shows on Streaming Platforms')"
   ]
  },
  {
   "cell_type": "code",
   "execution_count": null,
   "id": "9ff87e5f-72a8-48dd-99c5-fd0d14fc3bb1",
   "metadata": {},
   "outputs": [],
   "source": [
    "#what year did these bad TV shows debut?\n",
    "df_no_zeros_sorted.head(10)[['title','year']]"
   ]
  },
  {
   "cell_type": "markdown",
   "id": "0caaec60-dca6-410c-ab8e-43269eaca1d9",
   "metadata": {},
   "source": [
    "##### Pivoting the data \n",
    "\n",
    "Given the nature of data, where each platform column value was a 1, if a particular platform hosted a particular series and 0 if not, created a few unique problems, given the data was tidy, as defined by [Hadley Wickham](https://r4ds.had.co.nz/tidy-data.html).  In other words, the four platform columns are more like data themselves and shouldn't be across four individual columns.  They should be in one column, and then the values they represent will also create their own column.  <br>\n",
    "\n",
    "The first way to tidy this data was to create a custom function, and then use that function to define a new column in the dataset called \"platform\".  Because some shows are on multiple streaming platforms, the function will label those as \"multi-platform\"."
   ]
  },
  {
   "cell_type": "code",
   "execution_count": null,
   "id": "7c0c910e-f8de-4672-be44-94fff3fee923",
   "metadata": {},
   "outputs": [],
   "source": [
    "#Convert four platform columns into one column called platform\n",
    "\n",
    "def platform(a, b, c, d):\n",
    "    #if more than one platform column has a 1, then call it multi platform\n",
    "    if sum([a,b,c,d]) > 1:\n",
    "        return 'multi-platform'\n",
    "    if a == 1:\n",
    "        return 'netflix'\n",
    "    elif b == 1:\n",
    "        return 'hulu'\n",
    "    elif c == 1:\n",
    "        return \"prime_video\"\n",
    "    else:\n",
    "        return 'disney+'"
   ]
  },
  {
   "cell_type": "code",
   "execution_count": null,
   "id": "fd299e59-6ac9-41c4-b08c-beef6bf35fa6",
   "metadata": {},
   "outputs": [],
   "source": [
    "\n",
    "df['platform'] = df.apply(lambda x: platform(x['netflix'], x['hulu'], x['prime_video'], x['disney+']), axis = 1 )\n",
    "df.head()"
   ]
  },
  {
   "cell_type": "markdown",
   "id": "67588890-1fc6-4c47-87a2-b860d5b282e5",
   "metadata": {},
   "source": [
    "I was curious to see if certain streaming platform hosted higher rated shows compared to other platforms.  As I scrolled through the data, I saw numerous highly rated shows on netflix compared to the other platforms.  Howver, when graphically depicted, across the four platforms it appears as though none have better-rated shows than others, the medians of each are in the mid to high 60s. <br>\n",
    "\n",
    "Since I saw so many highly-ranked Netflix-hosted shows, but all the platforms are fairly comparable in terms of rankings, this leads me to believe that even though Netflix has many highly-received shows, they also probably host a bunch of whoppers.\n",
    "\n",
    "\n",
    "The interesting piece in this box plot is that multi-platform shows are generally higher rated than single platform shows.  This makes sense: if a show is successful, it's probably more likely another platform will want to host it as well."
   ]
  },
  {
   "cell_type": "code",
   "execution_count": null,
   "id": "3115209b-e32d-4833-b53d-774a0a0573b8",
   "metadata": {},
   "outputs": [],
   "source": [
    "df_no_zeros = df.query(\n",
    "            \"imdb_raw != 0 and \\\n",
    "            rotten_raw != 0\"\n",
    ")"
   ]
  },
  {
   "cell_type": "code",
   "execution_count": null,
   "id": "8fdaae68-2d9e-4c41-bd04-d97151d9e4b9",
   "metadata": {},
   "outputs": [],
   "source": [
    "#what platforms have shows with the best ratings overall?\n",
    "order = ['multi-platform', 'netflix','hulu','prime_video','disney+']\n",
    "\n",
    "g = sns.catplot(data=df_no_zeros, x=\"platform\", y=\"rating_combined\", kind=\"box\", \n",
    "                height= 5, aspect= 2, order = order)\n",
    "g.set(title = 'Box Plots of Average Ratings by Platform',\n",
    "       ylabel = 'Average Rating',\n",
    "     xlabel = \"Platform\")"
   ]
  },
  {
   "cell_type": "markdown",
   "id": "e239204e-6cb3-488f-a43c-6d34bba1b618",
   "metadata": {},
   "source": [
    "The custom function worked for the purpose it served, but both DPLYR in R and Pandas in Python have functions/ methods to pivot data longer or wider, whatever is needed to make it tidy, the melt method of Pandas is used to pivot longer the data.  This produces a similar output to the custom function, but there is no longer a 'multi-platform' value.  Shows on multiple platforms are counted in each of the platforms that hosts them.   "
   ]
  },
  {
   "cell_type": "code",
   "execution_count": null,
   "id": "8ba69235-6de3-483f-88d2-ebf7c4db4be4",
   "metadata": {},
   "outputs": [],
   "source": [
    "#unpivot\n",
    "df_longer = pd.melt(df, id_vars=['title','imdb_raw','rotten_raw','rating_combined'], value_vars= ['netflix','hulu','prime_video','disney+'])\n",
    "df_longer.head()"
   ]
  },
  {
   "cell_type": "code",
   "execution_count": null,
   "id": "259a8916-e819-4b66-a23a-5cf0bb2e23c9",
   "metadata": {},
   "outputs": [],
   "source": [
    "g = sns.catplot(data=df_longer.query(\"rating_combined > 0 and value == 1\"), x=\"variable\", y=\"rating_combined\", kind=\"box\", height= 5, aspect= 2)\n",
    "g.set(title = 'Box Plots of Average Ratings by Platform',\n",
    "       ylabel = 'Average Rating',\n",
    "     xlabel = \"Platform\")"
   ]
  },
  {
   "cell_type": "markdown",
   "id": "f9aa7dd1-7ec1-4858-9e2d-79167e597728",
   "metadata": {},
   "source": [
    "#### Conclusion\n",
    "There is some interesting research that can be done by visualization and graphically inspecting the data.  One thing the data lacks is the number of years the show ran, and the years is has been hosted in a given platform.  For example, in this data, a show that debuted in 2008 might be popular in 2009 than any show that debuted in 2009.  However, when we look at top shows in 2009, we won't see that show that debuted in '08, only those that debuted in 2009.  This could be potentially confusing when visually inspecting the results and the graphics."
   ]
  }
 ],
 "metadata": {
  "kernelspec": {
   "display_name": "Python 3 (ipykernel)",
   "language": "python",
   "name": "python3"
  },
  "language_info": {
   "codemirror_mode": {
    "name": "ipython",
    "version": 3
   },
   "file_extension": ".py",
   "mimetype": "text/x-python",
   "name": "python",
   "nbconvert_exporter": "python",
   "pygments_lexer": "ipython3",
   "version": "3.10.4"
  }
 },
 "nbformat": 4,
 "nbformat_minor": 5
}
